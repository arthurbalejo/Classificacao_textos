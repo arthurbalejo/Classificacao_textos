{
 "cells": [
  {
   "cell_type": "code",
   "execution_count": 1,
   "id": "2800f7f8",
   "metadata": {},
   "outputs": [
    {
     "data": {
      "text/html": [
       "<div>\n",
       "<style scoped>\n",
       "    .dataframe tbody tr th:only-of-type {\n",
       "        vertical-align: middle;\n",
       "    }\n",
       "\n",
       "    .dataframe tbody tr th {\n",
       "        vertical-align: top;\n",
       "    }\n",
       "\n",
       "    .dataframe thead th {\n",
       "        text-align: right;\n",
       "    }\n",
       "</style>\n",
       "<table border=\"1\" class=\"dataframe\">\n",
       "  <thead>\n",
       "    <tr style=\"text-align: right;\">\n",
       "      <th></th>\n",
       "      <th>reviewId</th>\n",
       "      <th>app_name</th>\n",
       "      <th>content</th>\n",
       "      <th>sentiment_polarity</th>\n",
       "      <th>sentiment</th>\n",
       "      <th>Unnamed: 5</th>\n",
       "    </tr>\n",
       "  </thead>\n",
       "  <tbody>\n",
       "    <tr>\n",
       "      <th>0</th>\n",
       "      <td>01e23c15-44bf-46b7-b280-40e880d9d49b</td>\n",
       "      <td>Shopee</td>\n",
       "      <td>O app da Shopee é razoável. Apesar de ser fáci...</td>\n",
       "      <td>positive</td>\n",
       "      <td>sadness</td>\n",
       "      <td>NaN</td>\n",
       "    </tr>\n",
       "    <tr>\n",
       "      <th>1</th>\n",
       "      <td>df40ba7c-075d-48dc-b798-21466dfb41d6</td>\n",
       "      <td>Shopee</td>\n",
       "      <td>O app é bem otimizado, fácil de visualizar os ...</td>\n",
       "      <td>positive</td>\n",
       "      <td>sadness</td>\n",
       "      <td>NaN</td>\n",
       "    </tr>\n",
       "  </tbody>\n",
       "</table>\n",
       "</div>"
      ],
      "text/plain": [
       "                               reviewId app_name  \\\n",
       "0  01e23c15-44bf-46b7-b280-40e880d9d49b   Shopee   \n",
       "1  df40ba7c-075d-48dc-b798-21466dfb41d6   Shopee   \n",
       "\n",
       "                                             content sentiment_polarity  \\\n",
       "0  O app da Shopee é razoável. Apesar de ser fáci...           positive   \n",
       "1  O app é bem otimizado, fácil de visualizar os ...           positive   \n",
       "\n",
       "  sentiment Unnamed: 5  \n",
       "0   sadness        NaN  \n",
       "1   sadness        NaN  "
      ]
     },
     "execution_count": 1,
     "metadata": {},
     "output_type": "execute_result"
    }
   ],
   "source": [
    "import pandas as pd\n",
    "dados_reviews = pd.read_csv('apps_reviews_validacao.csv', sep=',')\n",
    "dados_reviews.head(2)"
   ]
  },
  {
   "cell_type": "code",
   "execution_count": 2,
   "id": "713222ec",
   "metadata": {},
   "outputs": [
    {
     "data": {
      "text/html": [
       "<div>\n",
       "<style scoped>\n",
       "    .dataframe tbody tr th:only-of-type {\n",
       "        vertical-align: middle;\n",
       "    }\n",
       "\n",
       "    .dataframe tbody tr th {\n",
       "        vertical-align: top;\n",
       "    }\n",
       "\n",
       "    .dataframe thead th {\n",
       "        text-align: right;\n",
       "    }\n",
       "</style>\n",
       "<table border=\"1\" class=\"dataframe\">\n",
       "  <thead>\n",
       "    <tr style=\"text-align: right;\">\n",
       "      <th></th>\n",
       "      <th>reviewId</th>\n",
       "      <th>app_name</th>\n",
       "      <th>content</th>\n",
       "      <th>sentiment_polarity</th>\n",
       "      <th>sentiment</th>\n",
       "      <th>Unnamed: 5</th>\n",
       "    </tr>\n",
       "  </thead>\n",
       "  <tbody>\n",
       "    <tr>\n",
       "      <th>count</th>\n",
       "      <td>3011</td>\n",
       "      <td>3011</td>\n",
       "      <td>3011</td>\n",
       "      <td>3011</td>\n",
       "      <td>3011</td>\n",
       "      <td>1</td>\n",
       "    </tr>\n",
       "    <tr>\n",
       "      <th>unique</th>\n",
       "      <td>3011</td>\n",
       "      <td>10</td>\n",
       "      <td>3011</td>\n",
       "      <td>3</td>\n",
       "      <td>7</td>\n",
       "      <td>1</td>\n",
       "    </tr>\n",
       "    <tr>\n",
       "      <th>top</th>\n",
       "      <td>b2ca0eda-2492-411f-b5be-e81071f52122</td>\n",
       "      <td>Shopee</td>\n",
       "      <td>O reconhecimento facial simplesmente não funci...</td>\n",
       "      <td>negative</td>\n",
       "      <td>disgust</td>\n",
       "      <td>X</td>\n",
       "    </tr>\n",
       "    <tr>\n",
       "      <th>freq</th>\n",
       "      <td>1</td>\n",
       "      <td>303</td>\n",
       "      <td>1</td>\n",
       "      <td>1742</td>\n",
       "      <td>952</td>\n",
       "      <td>1</td>\n",
       "    </tr>\n",
       "  </tbody>\n",
       "</table>\n",
       "</div>"
      ],
      "text/plain": [
       "                                    reviewId app_name  \\\n",
       "count                                   3011     3011   \n",
       "unique                                  3011       10   \n",
       "top     b2ca0eda-2492-411f-b5be-e81071f52122   Shopee   \n",
       "freq                                       1      303   \n",
       "\n",
       "                                                  content sentiment_polarity  \\\n",
       "count                                                3011               3011   \n",
       "unique                                               3011                  3   \n",
       "top     O reconhecimento facial simplesmente não funci...           negative   \n",
       "freq                                                    1               1742   \n",
       "\n",
       "       sentiment Unnamed: 5  \n",
       "count       3011          1  \n",
       "unique         7          1  \n",
       "top      disgust          X  \n",
       "freq         952          1  "
      ]
     },
     "execution_count": 2,
     "metadata": {},
     "output_type": "execute_result"
    }
   ],
   "source": [
    "dados_reviews.describe()"
   ]
  },
  {
   "cell_type": "code",
   "execution_count": 3,
   "id": "c950eedf",
   "metadata": {},
   "outputs": [
    {
     "data": {
      "text/plain": [
       "'O app da Shopee é razoável. Apesar de ser fácil de utilizar, apresenta alguns bugs. Por exemplo: Sugestão de palavra errada no campo de pesquisa que acarreta na busca errada. Sugestões de produtos que não têm nada a ver com coisas de nosso interesse. Dificuldade de acesso de alguns jogos ou travamento durante alguma jogada. Falhas para carregar certos anexos para avaliação dos produtos. No geral, são problemas que se pode contornar, pois não ocorrem com tanta frequência.'"
      ]
     },
     "execution_count": 3,
     "metadata": {},
     "output_type": "execute_result"
    }
   ],
   "source": [
    "dados_reviews.loc[0,'content']"
   ]
  },
  {
   "cell_type": "markdown",
   "id": "6905a80d",
   "metadata": {},
   "source": [
    "# pre-processamento\n",
    "removendo caracteres nao latinos\n"
   ]
  },
  {
   "cell_type": "code",
   "execution_count": 4,
   "id": "bf025ed4",
   "metadata": {},
   "outputs": [],
   "source": [
    "import regex # trabalhar com expressões regulares\n",
    "#dados_reviews['texto'] = dados_reviews['content'].apply(lambda x: regex.sub('[^\\p{Latin}]', u' ', str(x)))\n",
    "dados_reviews['texto'] = dados_reviews['content'].apply(lambda x: regex.sub(r'[^\\p{Latin}]', u' ', str(x)))\n"
   ]
  },
  {
   "cell_type": "code",
   "execution_count": 5,
   "id": "cf1595f4",
   "metadata": {},
   "outputs": [
    {
     "data": {
      "text/plain": [
       "'O app da Shopee é razoável. Apesar de ser fácil de utilizar, apresenta alguns bugs. Por exemplo: Sugestão de palavra errada no campo de pesquisa que acarreta na busca errada. Sugestões de produtos que não têm nada a ver com coisas de nosso interesse. Dificuldade de acesso de alguns jogos ou travamento durante alguma jogada. Falhas para carregar certos anexos para avaliação dos produtos. No geral, são problemas que se pode contornar, pois não ocorrem com tanta frequência.'"
      ]
     },
     "execution_count": 5,
     "metadata": {},
     "output_type": "execute_result"
    }
   ],
   "source": [
    "dados_reviews.loc[0,'content']"
   ]
  },
  {
   "cell_type": "markdown",
   "id": "bdcffcf5",
   "metadata": {},
   "source": [
    "colocando textos minusculo"
   ]
  },
  {
   "cell_type": "code",
   "execution_count": 6,
   "id": "a377e6fe",
   "metadata": {},
   "outputs": [],
   "source": [
    "dados_reviews['content'] = dados_reviews['content'].apply(lambda x: str(x).lower())"
   ]
  },
  {
   "cell_type": "code",
   "execution_count": 7,
   "id": "f073a8ca",
   "metadata": {},
   "outputs": [
    {
     "data": {
      "text/plain": [
       "'o app da shopee é razoável. apesar de ser fácil de utilizar, apresenta alguns bugs. por exemplo: sugestão de palavra errada no campo de pesquisa que acarreta na busca errada. sugestões de produtos que não têm nada a ver com coisas de nosso interesse. dificuldade de acesso de alguns jogos ou travamento durante alguma jogada. falhas para carregar certos anexos para avaliação dos produtos. no geral, são problemas que se pode contornar, pois não ocorrem com tanta frequência.'"
      ]
     },
     "execution_count": 7,
     "metadata": {},
     "output_type": "execute_result"
    }
   ],
   "source": [
    "dados_reviews.loc[0,'content']"
   ]
  },
  {
   "cell_type": "markdown",
   "id": "25800ddc",
   "metadata": {},
   "source": [
    "removendo stopwords"
   ]
  },
  {
   "cell_type": "code",
   "execution_count": 8,
   "id": "7a586b72",
   "metadata": {},
   "outputs": [
    {
     "name": "stderr",
     "output_type": "stream",
     "text": [
      "[nltk_data] Downloading package stopwords to\n",
      "[nltk_data]     /home/arthurwsl/nltk_data...\n",
      "[nltk_data]   Package stopwords is already up-to-date!\n",
      "[nltk_data] Downloading package punkt to /home/arthurwsl/nltk_data...\n",
      "[nltk_data]   Package punkt is already up-to-date!\n"
     ]
    }
   ],
   "source": [
    "import nltk #caso não funcione, adicione a linha nltk.download('punkt')\n",
    "from nltk.corpus import stopwords\n",
    "from nltk.tokenize import word_tokenize\n",
    "nltk.download('stopwords')\n",
    "nltk.download('punkt')\n",
    "\n",
    "def remove_stopwords(texto):\n",
    "    stops_list = stopwords.words(\"portuguese\")\n",
    "    word_tokens = word_tokenize(texto)\n",
    "    texto_sem_stops = [w for w in word_tokens if w not in stops_list]\n",
    "    return \" \".join(texto_sem_stops)"
   ]
  },
  {
   "cell_type": "code",
   "execution_count": 9,
   "id": "d48c00ed",
   "metadata": {},
   "outputs": [],
   "source": [
    "dados_reviews['content'] = dados_reviews['content'].apply(remove_stopwords)"
   ]
  },
  {
   "cell_type": "code",
   "execution_count": 10,
   "id": "ecffce9b",
   "metadata": {},
   "outputs": [
    {
     "data": {
      "text/plain": [
       "'app shopee razoável . apesar fácil utilizar , apresenta alguns bugs . exemplo : sugestão palavra errada campo pesquisa acarreta busca errada . sugestões produtos têm nada ver coisas interesse . dificuldade acesso alguns jogos travamento durante alguma jogada . falhas carregar certos anexos avaliação produtos . geral , problemas pode contornar , pois ocorrem tanta frequência .'"
      ]
     },
     "execution_count": 10,
     "metadata": {},
     "output_type": "execute_result"
    }
   ],
   "source": [
    "dados_reviews.loc[0,'content']"
   ]
  },
  {
   "cell_type": "code",
   "execution_count": 11,
   "id": "8bc6bb31-a48e-4045-8777-089c98076d1b",
   "metadata": {},
   "outputs": [
    {
     "data": {
      "text/plain": [
       "'app shope razoável . apes fácil utiliz , apresent alguns bugs . exempl : sugestã palavr errad camp pesquis acarret busc errad . sugestõ produt têm nad ver cois inter . dificuldad acess alguns jog travament durant algum jog . falh carreg cert anex avali produt . geral , problem pod contorn , pois ocorr tant frequênc .'"
      ]
     },
     "execution_count": 11,
     "metadata": {},
     "output_type": "execute_result"
    }
   ],
   "source": [
    "from nltk.stem import SnowballStemmer\n",
    "stemmer = SnowballStemmer('portuguese')\n",
    "\n",
    "# Função para aplicar a stemização em uma string\n",
    "def stem_text(text):\n",
    "    words = nltk.word_tokenize(text)  # Tokeniza a string em palavras\n",
    "    stemmed_words = [stemmer.stem(word) for word in words]  # Aplica o stemizador\n",
    "    return ' '.join(stemmed_words)  # Junta as palavras de volta em uma string\n",
    "\n",
    "# Aplicar a função de stemização na coluna 'textos' do DataFrame\n",
    "dados_reviews['content'] = dados_reviews['content'].apply(stem_text)\n",
    "\n",
    "dados_reviews.loc[0,'content']"
   ]
  },
  {
   "cell_type": "markdown",
   "id": "82a98ecb",
   "metadata": {},
   "source": [
    "# representando texto em formato vetorial"
   ]
  },
  {
   "cell_type": "markdown",
   "id": "c86d4aac",
   "metadata": {},
   "source": [
    "instanciando metodos que fara a representacao do texto usando o modelo bag of word"
   ]
  },
  {
   "cell_type": "code",
   "execution_count": 12,
   "id": "785d30a8",
   "metadata": {},
   "outputs": [],
   "source": [
    "#from sklearn.feature_extraction.text import CountVectorizer\n",
    "import pandas as pd\n",
    "from sklearn.feature_extraction.text import TfidfVectorizer\n",
    "vectorizer = TfidfVectorizer()"
   ]
  },
  {
   "cell_type": "code",
   "execution_count": 13,
   "id": "13ebb840",
   "metadata": {},
   "outputs": [],
   "source": [
    "tfidf_matrix = vectorizer.fit_transform(dados_reviews['content'])\n",
    "\n",
    "palavras = vectorizer.get_feature_names_out()\n"
   ]
  },
  {
   "cell_type": "code",
   "execution_count": 14,
   "id": "f2efbf36",
   "metadata": {},
   "outputs": [
    {
     "name": "stdout",
     "output_type": "stream",
     "text": [
      "         00  000  00000  001   01   02   03   04   05   06  ...  últim  únic  \\\n",
      "0  0.000000  0.0    0.0  0.0  0.0  0.0  0.0  0.0  0.0  0.0  ...    0.0   0.0   \n",
      "1  0.000000  0.0    0.0  0.0  0.0  0.0  0.0  0.0  0.0  0.0  ...    0.0   0.0   \n",
      "2  0.000000  0.0    0.0  0.0  0.0  0.0  0.0  0.0  0.0  0.0  ...    0.0   0.0   \n",
      "3  0.129653  0.0    0.0  0.0  0.0  0.0  0.0  0.0  0.0  0.0  ...    0.0   0.0   \n",
      "\n",
      "   úte  útil   ℕ𝕒  𝕒𝕔𝕙𝕖𝕚  𝕕𝕚𝕗𝕚𝕔𝕚𝕝  𝕘𝕠𝕤𝕥𝕖𝕚  𝕞𝕦𝕚𝕥𝕠  𝕦𝕤𝕒𝕣  \n",
      "0  0.0   0.0  0.0    0.0      0.0     0.0    0.0   0.0  \n",
      "1  0.0   0.0  0.0    0.0      0.0     0.0    0.0   0.0  \n",
      "2  0.0   0.0  0.0    0.0      0.0     0.0    0.0   0.0  \n",
      "3  0.0   0.0  0.0    0.0      0.0     0.0    0.0   0.0  \n",
      "\n",
      "[4 rows x 5190 columns]\n"
     ]
    }
   ],
   "source": [
    "\n",
    "tfidf_df = pd.DataFrame(tfidf_matrix.toarray(), columns=palavras)\n",
    "\n",
    "print(tfidf_df.head(4))"
   ]
  },
  {
   "cell_type": "markdown",
   "id": "46d5aad6",
   "metadata": {},
   "source": [
    "# treinamento e teste"
   ]
  },
  {
   "cell_type": "markdown",
   "id": "da0ee734",
   "metadata": {},
   "source": [
    "Aqui vamos estimar a performance do classificador utilizando uma subdivisão nos dados. Vamos dividir os dados (tfidf_df) em um conjunto de teste e outro treinamento. "
   ]
  },
  {
   "cell_type": "code",
   "execution_count": 15,
   "id": "364d9c26",
   "metadata": {},
   "outputs": [],
   "source": [
    "textos_tfidf = tfidf_df\n",
    "categorias = dados_reviews['sentiment'] # as categorias devem estar separadas dos dados de treinamento \n",
    "categorias_polaridade = dados_reviews['sentiment_polarity']"
   ]
  },
  {
   "cell_type": "code",
   "execution_count": 16,
   "id": "740a1939",
   "metadata": {},
   "outputs": [],
   "source": [
    "from sklearn.model_selection import train_test_split\n",
    "from sklearn.neighbors import KNeighborsClassifier\n",
    "from sklearn.metrics import accuracy_score\n",
    "\n",
    "X_train, X_test, y_train, y_test = train_test_split(textos_tfidf, categorias, test_size=0.2, random_state=42) #20% para teste.\n",
    "X_trainp, X_testp, y_trainp, y_testp = train_test_split(textos_tfidf, categorias_polaridade, test_size=0.2, random_state=42) #20% para teste.\n",
    "\n",
    "# X_train contém os 80% dos dados - treinamento\n",
    "# y_train contém os 80% das categorias (atributo alvo) - treinamento\n",
    "\n",
    "# X_test contém os 20% dos dados - teste\n",
    "# y_test contém os 20% das categorias - teste"
   ]
  },
  {
   "cell_type": "code",
   "execution_count": 17,
   "id": "3686836e",
   "metadata": {},
   "outputs": [],
   "source": [
    "from sklearn.naive_bayes import MultinomialNB\n",
    "from sklearn.neighbors import KNeighborsClassifier\n",
    "knn = KNeighborsClassifier(n_neighbors=3)\n",
    "knnp = KNeighborsClassifier(n_neighbors=3)\n",
    "knn.fit(X_train, y_train)\n",
    "knnp.fit(X_trainp, y_trainp)\n",
    "predicoes = knn.predict(X_test)# recebe os 20% dos dados de teste sem as categorias - \"escondidas\"\n",
    "predicoesp = knnp.predict(X_testp)"
   ]
  },
  {
   "cell_type": "code",
   "execution_count": null,
   "id": "0f15f79c-03f5-4848-82b3-cb2a6d31291b",
   "metadata": {},
   "outputs": [],
   "source": []
  },
  {
   "cell_type": "markdown",
   "id": "a8359e17",
   "metadata": {},
   "source": [
    "Como sabemos de antemão a categoria correta do conjunto de teste, vamos avaliar a performance do nosso classificador de notícias Bayesiano"
   ]
  },
  {
   "cell_type": "code",
   "execution_count": 18,
   "id": "ef1e485f",
   "metadata": {},
   "outputs": [
    {
     "name": "stdout",
     "output_type": "stream",
     "text": [
      "              precision    recall  f1-score   support\n",
      "\n",
      "       anger       0.40      0.54      0.46       153\n",
      "     disgust       0.46      0.47      0.46       188\n",
      "        fear       0.00      0.00      0.00         5\n",
      "   happiness       0.52      0.44      0.47        64\n",
      "     neutral       1.00      0.11      0.19        19\n",
      "     sadness       0.55      0.45      0.49       172\n",
      "    surprise       0.00      0.00      0.00         2\n",
      "\n",
      "    accuracy                           0.46       603\n",
      "   macro avg       0.42      0.29      0.30       603\n",
      "weighted avg       0.49      0.46      0.46       603\n",
      "\n"
     ]
    },
    {
     "name": "stderr",
     "output_type": "stream",
     "text": [
      "/home/arthurwsl/classificao_textos/Classificacao_textos/myenv/lib/python3.12/site-packages/sklearn/metrics/_classification.py:1531: UndefinedMetricWarning: Precision is ill-defined and being set to 0.0 in labels with no predicted samples. Use `zero_division` parameter to control this behavior.\n",
      "  _warn_prf(average, modifier, f\"{metric.capitalize()} is\", len(result))\n",
      "/home/arthurwsl/classificao_textos/Classificacao_textos/myenv/lib/python3.12/site-packages/sklearn/metrics/_classification.py:1531: UndefinedMetricWarning: Precision is ill-defined and being set to 0.0 in labels with no predicted samples. Use `zero_division` parameter to control this behavior.\n",
      "  _warn_prf(average, modifier, f\"{metric.capitalize()} is\", len(result))\n",
      "/home/arthurwsl/classificao_textos/Classificacao_textos/myenv/lib/python3.12/site-packages/sklearn/metrics/_classification.py:1531: UndefinedMetricWarning: Precision is ill-defined and being set to 0.0 in labels with no predicted samples. Use `zero_division` parameter to control this behavior.\n",
      "  _warn_prf(average, modifier, f\"{metric.capitalize()} is\", len(result))\n"
     ]
    }
   ],
   "source": [
    "from sklearn.metrics import classification_report\n",
    "import numpy as np\n",
    "\n",
    "print(classification_report(y_test, predicoes))\n",
    "#print(\"Classes em y_test:\", np.unique(y_test))\n",
    "#print(\"Classes em predicoes:\", np.unique(predicoes))\n",
    "# y_test contém as categorias conhecidas do conjunto de teste usado no método predict().\n",
    "# predicoes contém as categorias preditas (retornadas) pelo método predict() com base nos dados de X_test."
   ]
  },
  {
   "cell_type": "code",
   "execution_count": 19,
   "id": "ff23e6e7",
   "metadata": {},
   "outputs": [
    {
     "name": "stdout",
     "output_type": "stream",
     "text": [
      "              precision    recall  f1-score   support\n",
      "\n",
      "    negative       0.77      0.83      0.80       346\n",
      "     neutral       1.00      0.11      0.19        19\n",
      "    positive       0.71      0.68      0.70       238\n",
      "\n",
      "    accuracy                           0.75       603\n",
      "   macro avg       0.83      0.54      0.56       603\n",
      "weighted avg       0.75      0.75      0.74       603\n",
      "\n"
     ]
    }
   ],
   "source": [
    "from sklearn.metrics import classification_report\n",
    "\n",
    "print(classification_report(y_testp, predicoesp))\n",
    "\n",
    "# y_test contém as categorias conhecidas do conjunto de teste usado no método predict().\n",
    "# predicoes contém as categorias preditas (retornadas) pelo método predict() com base nos dados de X_test."
   ]
  },
  {
   "cell_type": "markdown",
   "id": "9cd9df3e",
   "metadata": {},
   "source": [
    "Vamos montar a matriz de confusão usando um mapa de valor da biblioteca Seaborn"
   ]
  },
  {
   "cell_type": "code",
   "execution_count": 20,
   "id": "f7fa6245",
   "metadata": {
    "scrolled": true
   },
   "outputs": [
    {
     "data": {
      "image/png": "[encoded data removed]",
      "text/plain": [
       "<Figure size 640x480 with 1 Axes>"
      ]
     },
     "metadata": {},
     "output_type": "display_data"
    }
   ],
   "source": [
    "from sklearn.metrics import confusion_matrix\n",
    "import matplotlib.pyplot as plt\n",
    "import seaborn as sns\n",
    "\n",
    "cm = confusion_matrix(y_test, predicoes)\n",
    "sns.heatmap(cm, square=True, annot=True, cmap='RdBu', cbar=False, \n",
    "            xticklabels=categorias.unique(),\n",
    "            yticklabels=categorias.unique())\n",
    "\n",
    "plt.xlabel(\"Classe real\")\n",
    "plt.ylabel(\"Classe predita\")\n",
    "plt.show()\n"
   ]
  },
  {
   "cell_type": "code",
   "execution_count": 21,
   "id": "7f887c1f",
   "metadata": {},
   "outputs": [
    {
     "data": {
      "image/png": "[encoded data removed]",
      "text/plain": [
       "<Figure size 640x480 with 1 Axes>"
      ]
     },
     "metadata": {},
     "output_type": "display_data"
    }
   ],
   "source": [
    "from sklearn.metrics import confusion_matrix\n",
    "import matplotlib.pyplot as plt\n",
    "import seaborn as sns\n",
    "\n",
    "cm = confusion_matrix(y_testp, predicoesp)\n",
    "sns.heatmap(cm, square=True, annot=True, cmap='RdBu', cbar=False, \n",
    "            xticklabels=categorias_polaridade.unique(),\n",
    "            yticklabels=categorias_polaridade.unique())\n",
    "\n",
    "plt.xlabel(\"Classe real\")\n",
    "plt.ylabel(\"Classe predita\")\n",
    "plt.show()\n"
   ]
  },
  {
   "cell_type": "markdown",
   "id": "7c88c29d",
   "metadata": {},
   "source": [
    "# Teste para uma avaliacao nova\n",
    "\n"
   ]
  },
  {
   "cell_type": "code",
   "execution_count": 27,
   "id": "a9fe0b71",
   "metadata": {},
   "outputs": [
    {
     "data": {
      "text/html": [
       "<style>#sk-container-id-2 {\n",
       "  /* Definition of color scheme common for light and dark mode */\n",
       "  --sklearn-color-text: black;\n",
       "  --sklearn-color-line: gray;\n",
       "  /* Definition of color scheme for unfitted estimators */\n",
       "  --sklearn-color-unfitted-level-0: #fff5e6;\n",
       "  --sklearn-color-unfitted-level-1: #f6e4d2;\n",
       "  --sklearn-color-unfitted-level-2: #ffe0b3;\n",
       "  --sklearn-color-unfitted-level-3: chocolate;\n",
       "  /* Definition of color scheme for fitted estimators */\n",
       "  --sklearn-color-fitted-level-0: #f0f8ff;\n",
       "  --sklearn-color-fitted-level-1: #d4ebff;\n",
       "  --sklearn-color-fitted-level-2: #b3dbfd;\n",
       "  --sklearn-color-fitted-level-3: cornflowerblue;\n",
       "\n",
       "  /* Specific color for light theme */\n",
       "  --sklearn-color-text-on-default-background: var(--sg-text-color, var(--theme-code-foreground, var(--jp-content-font-color1, black)));\n",
       "  --sklearn-color-background: var(--sg-background-color, var(--theme-background, var(--jp-layout-color0, white)));\n",
       "  --sklearn-color-border-box: var(--sg-text-color, var(--theme-code-foreground, var(--jp-content-font-color1, black)));\n",
       "  --sklearn-color-icon: #696969;\n",
       "\n",
       "  @media (prefers-color-scheme: dark) {\n",
       "    /* Redefinition of color scheme for dark theme */\n",
       "    --sklearn-color-text-on-default-background: var(--sg-text-color, var(--theme-code-foreground, var(--jp-content-font-color1, white)));\n",
       "    --sklearn-color-background: var(--sg-background-color, var(--theme-background, var(--jp-layout-color0, #111)));\n",
       "    --sklearn-color-border-box: var(--sg-text-color, var(--theme-code-foreground, var(--jp-content-font-color1, white)));\n",
       "    --sklearn-color-icon: #878787;\n",
       "  }\n",
       "}\n",
       "\n",
       "#sk-container-id-2 {\n",
       "  color: var(--sklearn-color-text);\n",
       "}\n",
       "\n",
       "#sk-container-id-2 pre {\n",
       "  padding: 0;\n",
       "}\n",
       "\n",
       "#sk-container-id-2 input.sk-hidden--visually {\n",
       "  border: 0;\n",
       "  clip: rect(1px 1px 1px 1px);\n",
       "  clip: rect(1px, 1px, 1px, 1px);\n",
       "  height: 1px;\n",
       "  margin: -1px;\n",
       "  overflow: hidden;\n",
       "  padding: 0;\n",
       "  position: absolute;\n",
       "  width: 1px;\n",
       "}\n",
       "\n",
       "#sk-container-id-2 div.sk-dashed-wrapped {\n",
       "  border: 1px dashed var(--sklearn-color-line);\n",
       "  margin: 0 0.4em 0.5em 0.4em;\n",
       "  box-sizing: border-box;\n",
       "  padding-bottom: 0.4em;\n",
       "  background-color: var(--sklearn-color-background);\n",
       "}\n",
       "\n",
       "#sk-container-id-2 div.sk-container {\n",
       "  /* jupyter's `normalize.less` sets `[hidden] { display: none; }`\n",
       "     but bootstrap.min.css set `[hidden] { display: none !important; }`\n",
       "     so we also need the `!important` here to be able to override the\n",
       "     default hidden behavior on the sphinx rendered scikit-learn.org.\n",
       "     See: https://github.com/scikit-learn/scikit-learn/issues/21755 */\n",
       "  display: inline-block !important;\n",
       "  position: relative;\n",
       "}\n",
       "\n",
       "#sk-container-id-2 div.sk-text-repr-fallback {\n",
       "  display: none;\n",
       "}\n",
       "\n",
       "div.sk-parallel-item,\n",
       "div.sk-serial,\n",
       "div.sk-item {\n",
       "  /* draw centered vertical line to link estimators */\n",
       "  background-image: linear-gradient(var(--sklearn-color-text-on-default-background), var(--sklearn-color-text-on-default-background));\n",
       "  background-size: 2px 100%;\n",
       "  background-repeat: no-repeat;\n",
       "  background-position: center center;\n",
       "}\n",
       "\n",
       "/* Parallel-specific style estimator block */\n",
       "\n",
       "#sk-container-id-2 div.sk-parallel-item::after {\n",
       "  content: \"\";\n",
       "  width: 100%;\n",
       "  border-bottom: 2px solid var(--sklearn-color-text-on-default-background);\n",
       "  flex-grow: 1;\n",
       "}\n",
       "\n",
       "#sk-container-id-2 div.sk-parallel {\n",
       "  display: flex;\n",
       "  align-items: stretch;\n",
       "  justify-content: center;\n",
       "  background-color: var(--sklearn-color-background);\n",
       "  position: relative;\n",
       "}\n",
       "\n",
       "#sk-container-id-2 div.sk-parallel-item {\n",
       "  display: flex;\n",
       "  flex-direction: column;\n",
       "}\n",
       "\n",
       "#sk-container-id-2 div.sk-parallel-item:first-child::after {\n",
       "  align-self: flex-end;\n",
       "  width: 50%;\n",
       "}\n",
       "\n",
       "#sk-container-id-2 div.sk-parallel-item:last-child::after {\n",
       "  align-self: flex-start;\n",
       "  width: 50%;\n",
       "}\n",
       "\n",
       "#sk-container-id-2 div.sk-parallel-item:only-child::after {\n",
       "  width: 0;\n",
       "}\n",
       "\n",
       "/* Serial-specific style estimator block */\n",
       "\n",
       "#sk-container-id-2 div.sk-serial {\n",
       "  display: flex;\n",
       "  flex-direction: column;\n",
       "  align-items: center;\n",
       "  background-color: var(--sklearn-color-background);\n",
       "  padding-right: 1em;\n",
       "  padding-left: 1em;\n",
       "}\n",
       "\n",
       "\n",
       "/* Toggleable style: style used for estimator/Pipeline/ColumnTransformer box that is\n",
       "clickable and can be expanded/collapsed.\n",
       "- Pipeline and ColumnTransformer use this feature and define the default style\n",
       "- Estimators will overwrite some part of the style using the `sk-estimator` class\n",
       "*/\n",
       "\n",
       "/* Pipeline and ColumnTransformer style (default) */\n",
       "\n",
       "#sk-container-id-2 div.sk-toggleable {\n",
       "  /* Default theme specific background. It is overwritten whether we have a\n",
       "  specific estimator or a Pipeline/ColumnTransformer */\n",
       "  background-color: var(--sklearn-color-background);\n",
       "}\n",
       "\n",
       "/* Toggleable label */\n",
       "#sk-container-id-2 label.sk-toggleable__label {\n",
       "  cursor: pointer;\n",
       "  display: block;\n",
       "  width: 100%;\n",
       "  margin-bottom: 0;\n",
       "  padding: 0.5em;\n",
       "  box-sizing: border-box;\n",
       "  text-align: center;\n",
       "}\n",
       "\n",
       "#sk-container-id-2 label.sk-toggleable__label-arrow:before {\n",
       "  /* Arrow on the left of the label */\n",
       "  content: \"▸\";\n",
       "  float: left;\n",
       "  margin-right: 0.25em;\n",
       "  color: var(--sklearn-color-icon);\n",
       "}\n",
       "\n",
       "#sk-container-id-2 label.sk-toggleable__label-arrow:hover:before {\n",
       "  color: var(--sklearn-color-text);\n",
       "}\n",
       "\n",
       "/* Toggleable content - dropdown */\n",
       "\n",
       "#sk-container-id-2 div.sk-toggleable__content {\n",
       "  max-height: 0;\n",
       "  max-width: 0;\n",
       "  overflow: hidden;\n",
       "  text-align: left;\n",
       "  /* unfitted */\n",
       "  background-color: var(--sklearn-color-unfitted-level-0);\n",
       "}\n",
       "\n",
       "#sk-container-id-2 div.sk-toggleable__content.fitted {\n",
       "  /* fitted */\n",
       "  background-color: var(--sklearn-color-fitted-level-0);\n",
       "}\n",
       "\n",
       "#sk-container-id-2 div.sk-toggleable__content pre {\n",
       "  margin: 0.2em;\n",
       "  border-radius: 0.25em;\n",
       "  color: var(--sklearn-color-text);\n",
       "  /* unfitted */\n",
       "  background-color: var(--sklearn-color-unfitted-level-0);\n",
       "}\n",
       "\n",
       "#sk-container-id-2 div.sk-toggleable__content.fitted pre {\n",
       "  /* unfitted */\n",
       "  background-color: var(--sklearn-color-fitted-level-0);\n",
       "}\n",
       "\n",
       "#sk-container-id-2 input.sk-toggleable__control:checked~div.sk-toggleable__content {\n",
       "  /* Expand drop-down */\n",
       "  max-height: 200px;\n",
       "  max-width: 100%;\n",
       "  overflow: auto;\n",
       "}\n",
       "\n",
       "#sk-container-id-2 input.sk-toggleable__control:checked~label.sk-toggleable__label-arrow:before {\n",
       "  content: \"▾\";\n",
       "}\n",
       "\n",
       "/* Pipeline/ColumnTransformer-specific style */\n",
       "\n",
       "#sk-container-id-2 div.sk-label input.sk-toggleable__control:checked~label.sk-toggleable__label {\n",
       "  color: var(--sklearn-color-text);\n",
       "  background-color: var(--sklearn-color-unfitted-level-2);\n",
       "}\n",
       "\n",
       "#sk-container-id-2 div.sk-label.fitted input.sk-toggleable__control:checked~label.sk-toggleable__label {\n",
       "  background-color: var(--sklearn-color-fitted-level-2);\n",
       "}\n",
       "\n",
       "/* Estimator-specific style */\n",
       "\n",
       "/* Colorize estimator box */\n",
       "#sk-container-id-2 div.sk-estimator input.sk-toggleable__control:checked~label.sk-toggleable__label {\n",
       "  /* unfitted */\n",
       "  background-color: var(--sklearn-color-unfitted-level-2);\n",
       "}\n",
       "\n",
       "#sk-container-id-2 div.sk-estimator.fitted input.sk-toggleable__control:checked~label.sk-toggleable__label {\n",
       "  /* fitted */\n",
       "  background-color: var(--sklearn-color-fitted-level-2);\n",
       "}\n",
       "\n",
       "#sk-container-id-2 div.sk-label label.sk-toggleable__label,\n",
       "#sk-container-id-2 div.sk-label label {\n",
       "  /* The background is the default theme color */\n",
       "  color: var(--sklearn-color-text-on-default-background);\n",
       "}\n",
       "\n",
       "/* On hover, darken the color of the background */\n",
       "#sk-container-id-2 div.sk-label:hover label.sk-toggleable__label {\n",
       "  color: var(--sklearn-color-text);\n",
       "  background-color: var(--sklearn-color-unfitted-level-2);\n",
       "}\n",
       "\n",
       "/* Label box, darken color on hover, fitted */\n",
       "#sk-container-id-2 div.sk-label.fitted:hover label.sk-toggleable__label.fitted {\n",
       "  color: var(--sklearn-color-text);\n",
       "  background-color: var(--sklearn-color-fitted-level-2);\n",
       "}\n",
       "\n",
       "/* Estimator label */\n",
       "\n",
       "#sk-container-id-2 div.sk-label label {\n",
       "  font-family: monospace;\n",
       "  font-weight: bold;\n",
       "  display: inline-block;\n",
       "  line-height: 1.2em;\n",
       "}\n",
       "\n",
       "#sk-container-id-2 div.sk-label-container {\n",
       "  text-align: center;\n",
       "}\n",
       "\n",
       "/* Estimator-specific */\n",
       "#sk-container-id-2 div.sk-estimator {\n",
       "  font-family: monospace;\n",
       "  border: 1px dotted var(--sklearn-color-border-box);\n",
       "  border-radius: 0.25em;\n",
       "  box-sizing: border-box;\n",
       "  margin-bottom: 0.5em;\n",
       "  /* unfitted */\n",
       "  background-color: var(--sklearn-color-unfitted-level-0);\n",
       "}\n",
       "\n",
       "#sk-container-id-2 div.sk-estimator.fitted {\n",
       "  /* fitted */\n",
       "  background-color: var(--sklearn-color-fitted-level-0);\n",
       "}\n",
       "\n",
       "/* on hover */\n",
       "#sk-container-id-2 div.sk-estimator:hover {\n",
       "  /* unfitted */\n",
       "  background-color: var(--sklearn-color-unfitted-level-2);\n",
       "}\n",
       "\n",
       "#sk-container-id-2 div.sk-estimator.fitted:hover {\n",
       "  /* fitted */\n",
       "  background-color: var(--sklearn-color-fitted-level-2);\n",
       "}\n",
       "\n",
       "/* Specification for estimator info (e.g. \"i\" and \"?\") */\n",
       "\n",
       "/* Common style for \"i\" and \"?\" */\n",
       "\n",
       ".sk-estimator-doc-link,\n",
       "a:link.sk-estimator-doc-link,\n",
       "a:visited.sk-estimator-doc-link {\n",
       "  float: right;\n",
       "  font-size: smaller;\n",
       "  line-height: 1em;\n",
       "  font-family: monospace;\n",
       "  background-color: var(--sklearn-color-background);\n",
       "  border-radius: 1em;\n",
       "  height: 1em;\n",
       "  width: 1em;\n",
       "  text-decoration: none !important;\n",
       "  margin-left: 1ex;\n",
       "  /* unfitted */\n",
       "  border: var(--sklearn-color-unfitted-level-1) 1pt solid;\n",
       "  color: var(--sklearn-color-unfitted-level-1);\n",
       "}\n",
       "\n",
       ".sk-estimator-doc-link.fitted,\n",
       "a:link.sk-estimator-doc-link.fitted,\n",
       "a:visited.sk-estimator-doc-link.fitted {\n",
       "  /* fitted */\n",
       "  border: var(--sklearn-color-fitted-level-1) 1pt solid;\n",
       "  color: var(--sklearn-color-fitted-level-1);\n",
       "}\n",
       "\n",
       "/* On hover */\n",
       "div.sk-estimator:hover .sk-estimator-doc-link:hover,\n",
       ".sk-estimator-doc-link:hover,\n",
       "div.sk-label-container:hover .sk-estimator-doc-link:hover,\n",
       ".sk-estimator-doc-link:hover {\n",
       "  /* unfitted */\n",
       "  background-color: var(--sklearn-color-unfitted-level-3);\n",
       "  color: var(--sklearn-color-background);\n",
       "  text-decoration: none;\n",
       "}\n",
       "\n",
       "div.sk-estimator.fitted:hover .sk-estimator-doc-link.fitted:hover,\n",
       ".sk-estimator-doc-link.fitted:hover,\n",
       "div.sk-label-container:hover .sk-estimator-doc-link.fitted:hover,\n",
       ".sk-estimator-doc-link.fitted:hover {\n",
       "  /* fitted */\n",
       "  background-color: var(--sklearn-color-fitted-level-3);\n",
       "  color: var(--sklearn-color-background);\n",
       "  text-decoration: none;\n",
       "}\n",
       "\n",
       "/* Span, style for the box shown on hovering the info icon */\n",
       ".sk-estimator-doc-link span {\n",
       "  display: none;\n",
       "  z-index: 9999;\n",
       "  position: relative;\n",
       "  font-weight: normal;\n",
       "  right: .2ex;\n",
       "  padding: .5ex;\n",
       "  margin: .5ex;\n",
       "  width: min-content;\n",
       "  min-width: 20ex;\n",
       "  max-width: 50ex;\n",
       "  color: var(--sklearn-color-text);\n",
       "  box-shadow: 2pt 2pt 4pt #999;\n",
       "  /* unfitted */\n",
       "  background: var(--sklearn-color-unfitted-level-0);\n",
       "  border: .5pt solid var(--sklearn-color-unfitted-level-3);\n",
       "}\n",
       "\n",
       ".sk-estimator-doc-link.fitted span {\n",
       "  /* fitted */\n",
       "  background: var(--sklearn-color-fitted-level-0);\n",
       "  border: var(--sklearn-color-fitted-level-3);\n",
       "}\n",
       "\n",
       ".sk-estimator-doc-link:hover span {\n",
       "  display: block;\n",
       "}\n",
       "\n",
       "/* \"?\"-specific style due to the `<a>` HTML tag */\n",
       "\n",
       "#sk-container-id-2 a.estimator_doc_link {\n",
       "  float: right;\n",
       "  font-size: 1rem;\n",
       "  line-height: 1em;\n",
       "  font-family: monospace;\n",
       "  background-color: var(--sklearn-color-background);\n",
       "  border-radius: 1rem;\n",
       "  height: 1rem;\n",
       "  width: 1rem;\n",
       "  text-decoration: none;\n",
       "  /* unfitted */\n",
       "  color: var(--sklearn-color-unfitted-level-1);\n",
       "  border: var(--sklearn-color-unfitted-level-1) 1pt solid;\n",
       "}\n",
       "\n",
       "#sk-container-id-2 a.estimator_doc_link.fitted {\n",
       "  /* fitted */\n",
       "  border: var(--sklearn-color-fitted-level-1) 1pt solid;\n",
       "  color: var(--sklearn-color-fitted-level-1);\n",
       "}\n",
       "\n",
       "/* On hover */\n",
       "#sk-container-id-2 a.estimator_doc_link:hover {\n",
       "  /* unfitted */\n",
       "  background-color: var(--sklearn-color-unfitted-level-3);\n",
       "  color: var(--sklearn-color-background);\n",
       "  text-decoration: none;\n",
       "}\n",
       "\n",
       "#sk-container-id-2 a.estimator_doc_link.fitted:hover {\n",
       "  /* fitted */\n",
       "  background-color: var(--sklearn-color-fitted-level-3);\n",
       "}\n",
       "</style><div id=\"sk-container-id-2\" class=\"sk-top-container\"><div class=\"sk-text-repr-fallback\"><pre>KNeighborsClassifier(n_neighbors=3)</pre><b>In a Jupyter environment, please rerun this cell to show the HTML representation or trust the notebook. <br />On GitHub, the HTML representation is unable to render, please try loading this page with nbviewer.org.</b></div><div class=\"sk-container\" hidden><div class=\"sk-item\"><div class=\"sk-estimator fitted sk-toggleable\"><input class=\"sk-toggleable__control sk-hidden--visually\" id=\"sk-estimator-id-2\" type=\"checkbox\" checked><label for=\"sk-estimator-id-2\" class=\"sk-toggleable__label fitted sk-toggleable__label-arrow fitted\">&nbsp;&nbsp;KNeighborsClassifier<a class=\"sk-estimator-doc-link fitted\" rel=\"noreferrer\" target=\"_blank\" href=\"https://scikit-learn.org/1.5/modules/generated/sklearn.neighbors.KNeighborsClassifier.html\">?<span>Documentation for KNeighborsClassifier</span></a><span class=\"sk-estimator-doc-link fitted\">i<span>Fitted</span></span></label><div class=\"sk-toggleable__content fitted\"><pre>KNeighborsClassifier(n_neighbors=3)</pre></div> </div></div></div></div>"
      ],
      "text/plain": [
       "KNeighborsClassifier(n_neighbors=3)"
      ]
     },
     "execution_count": 27,
     "metadata": {},
     "output_type": "execute_result"
    }
   ],
   "source": [
    "knn = KNeighborsClassifier(n_neighbors=3)\n",
    "knn.fit(textos_tfidf, categorias)"
   ]
  },
  {
   "cell_type": "code",
   "execution_count": 28,
   "id": "1e2247c7",
   "metadata": {},
   "outputs": [],
   "source": [
    "emocao_real = 'sadness'\n",
    "avaliacao = 'Alguns fretes são tão caros que nem o cupom de frete grátis ajuda, em caso de fretes acima R$70,00 deveriam haver cupons de frete gratis de R$40,00 ou ao menos de R$35,00 mas no geral o de R$20,00 resolve ou ajuda. As vezes algum produto vem com problemas e nem sempre percebo no primeiro momento. mas no geral os produtos são bons. A maioria das entregas é rápida, mas algumas demoram bastante. Enfim vale a pena e vou continuar comprando.'"
   ]
  },
  {
   "cell_type": "code",
   "execution_count": 29,
   "id": "5cc85ef9-cf80-48fb-95a9-caca6d8debbc",
   "metadata": {},
   "outputs": [
    {
     "name": "stdout",
     "output_type": "stream",
     "text": [
      "alguns fret tã car cupom fret grát ajud , cas fret acim r $ 70,00 dev cupons fret grat r $ 40,00 men r $ 35,00 geral r $ 20,00 resolv ajud . vez algum produt vem problem sempr perceb primeir moment . geral produt bons . maior entreg ráp , algum demor bastant . enfim val pen vou continu compr .\n"
     ]
    }
   ],
   "source": [
    "avaliacao_SohTexto = regex.sub(r'[^\\p{Latin}]', u' ', avaliacao)\n",
    "avaliacao_lower = avaliacao.lower()\n",
    "avaliacao_semStops = remove_stopwords(avaliacao_lower)\n",
    "avaliacao = stem_text(avaliacao_semStops)\n",
    "print(avaliacao)"
   ]
  },
  {
   "cell_type": "code",
   "execution_count": 30,
   "id": "1c0e3969-a3a3-4390-8549-1edad805bb14",
   "metadata": {},
   "outputs": [],
   "source": [
    "avaliacao_tfidf = vectorizer.transform([avaliacao])\n"
   ]
  },
  {
   "cell_type": "code",
   "execution_count": 31,
   "id": "4cc12a49-7da9-4514-b244-888e9d86cf54",
   "metadata": {},
   "outputs": [
    {
     "name": "stdout",
     "output_type": "stream",
     "text": [
      "A classe predita para essa notícia é:  ['sadness']\n",
      "A classe real dessa noticia é:  sadness\n"
     ]
    },
    {
     "name": "stderr",
     "output_type": "stream",
     "text": [
      "/home/arthurwsl/classificao_textos/Classificacao_textos/myenv/lib/python3.12/site-packages/sklearn/base.py:493: UserWarning: X does not have valid feature names, but KNeighborsClassifier was fitted with feature names\n",
      "  warnings.warn(\n"
     ]
    }
   ],
   "source": [
    "emocao_predita = knn.predict(avaliacao_tfidf)\n",
    "print('A classe predita para essa notícia é: ', emocao_predita);\n",
    "print('A classe real dessa noticia é: ', emocao_real)"
   ]
  },
  {
   "cell_type": "code",
   "execution_count": null,
   "id": "2a799ac5-0fcd-4343-a756-8d6d87463126",
   "metadata": {},
   "outputs": [],
   "source": []
  }
 ],
 "metadata": {
  "kernelspec": {
   "display_name": "Python 3 (ipykernel)",
   "language": "python",
   "name": "python3"
  },
  "language_info": {
   "codemirror_mode": {
    "name": "ipython",
    "version": 3
   },
   "file_extension": ".py",
   "mimetype": "text/x-python",
   "name": "python",
   "nbconvert_exporter": "python",
   "pygments_lexer": "ipython3",
   "version": "3.12.4"
  }
 },
 "nbformat": 4,
 "nbformat_minor": 5
}
