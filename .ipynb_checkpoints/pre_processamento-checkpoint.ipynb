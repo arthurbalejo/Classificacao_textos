{
 "cells": [
  {
   "cell_type": "code",
   "execution_count": 3,
   "id": "2800f7f8",
   "metadata": {},
   "outputs": [
    {
     "data": {
      "text/html": [
       "<div>\n",
       "<style scoped>\n",
       "    .dataframe tbody tr th:only-of-type {\n",
       "        vertical-align: middle;\n",
       "    }\n",
       "\n",
       "    .dataframe tbody tr th {\n",
       "        vertical-align: top;\n",
       "    }\n",
       "\n",
       "    .dataframe thead th {\n",
       "        text-align: right;\n",
       "    }\n",
       "</style>\n",
       "<table border=\"1\" class=\"dataframe\">\n",
       "  <thead>\n",
       "    <tr style=\"text-align: right;\">\n",
       "      <th></th>\n",
       "      <th>reviewId</th>\n",
       "      <th>app_name</th>\n",
       "      <th>content</th>\n",
       "      <th>sentiment_polarity</th>\n",
       "      <th>sentiment</th>\n",
       "    </tr>\n",
       "  </thead>\n",
       "  <tbody>\n",
       "    <tr>\n",
       "      <th>0</th>\n",
       "      <td>01e23c15-44bf-46b7-b280-40e880d9d49b</td>\n",
       "      <td>Shopee</td>\n",
       "      <td>O app da Shopee é razoável. Apesar de ser fáci...</td>\n",
       "      <td>positive</td>\n",
       "      <td>sadness</td>\n",
       "    </tr>\n",
       "    <tr>\n",
       "      <th>1</th>\n",
       "      <td>df40ba7c-075d-48dc-b798-21466dfb41d6</td>\n",
       "      <td>Shopee</td>\n",
       "      <td>O app é bem otimizado, fácil de visualizar os ...</td>\n",
       "      <td>positive</td>\n",
       "      <td>sadness</td>\n",
       "    </tr>\n",
       "  </tbody>\n",
       "</table>\n",
       "</div>"
      ],
      "text/plain": [
       "                               reviewId app_name  \\\n",
       "0  01e23c15-44bf-46b7-b280-40e880d9d49b   Shopee   \n",
       "1  df40ba7c-075d-48dc-b798-21466dfb41d6   Shopee   \n",
       "\n",
       "                                             content sentiment_polarity  \\\n",
       "0  O app da Shopee é razoável. Apesar de ser fáci...           positive   \n",
       "1  O app é bem otimizado, fácil de visualizar os ...           positive   \n",
       "\n",
       "  sentiment  \n",
       "0   sadness  \n",
       "1   sadness  "
      ]
     },
     "execution_count": 3,
     "metadata": {},
     "output_type": "execute_result"
    }
   ],
   "source": [
    "import pandas as pd\n",
    "dados_reviews = pd.read_csv('apps_reviews_validacao.csv', sep=',')\n",
    "dados_reviews.head(2)"
   ]
  },
  {
   "cell_type": "code",
   "execution_count": 53,
   "id": "713222ec",
   "metadata": {},
   "outputs": [
    {
     "data": {
      "text/html": [
       "<div>\n",
       "<style scoped>\n",
       "    .dataframe tbody tr th:only-of-type {\n",
       "        vertical-align: middle;\n",
       "    }\n",
       "\n",
       "    .dataframe tbody tr th {\n",
       "        vertical-align: top;\n",
       "    }\n",
       "\n",
       "    .dataframe thead th {\n",
       "        text-align: right;\n",
       "    }\n",
       "</style>\n",
       "<table border=\"1\" class=\"dataframe\">\n",
       "  <thead>\n",
       "    <tr style=\"text-align: right;\">\n",
       "      <th></th>\n",
       "      <th>reviewId</th>\n",
       "      <th>app_name</th>\n",
       "      <th>content</th>\n",
       "      <th>sentiment_polarity</th>\n",
       "      <th>sentiment</th>\n",
       "    </tr>\n",
       "  </thead>\n",
       "  <tbody>\n",
       "    <tr>\n",
       "      <th>count</th>\n",
       "      <td>3011</td>\n",
       "      <td>3011</td>\n",
       "      <td>3011</td>\n",
       "      <td>3011</td>\n",
       "      <td>3011</td>\n",
       "    </tr>\n",
       "    <tr>\n",
       "      <th>unique</th>\n",
       "      <td>3011</td>\n",
       "      <td>10</td>\n",
       "      <td>3011</td>\n",
       "      <td>3</td>\n",
       "      <td>7</td>\n",
       "    </tr>\n",
       "    <tr>\n",
       "      <th>top</th>\n",
       "      <td>01e23c15-44bf-46b7-b280-40e880d9d49b</td>\n",
       "      <td>Shopee</td>\n",
       "      <td>O app da Shopee é razoável. Apesar de ser fáci...</td>\n",
       "      <td>negative</td>\n",
       "      <td>disgust</td>\n",
       "    </tr>\n",
       "    <tr>\n",
       "      <th>freq</th>\n",
       "      <td>1</td>\n",
       "      <td>303</td>\n",
       "      <td>1</td>\n",
       "      <td>1742</td>\n",
       "      <td>952</td>\n",
       "    </tr>\n",
       "  </tbody>\n",
       "</table>\n",
       "</div>"
      ],
      "text/plain": [
       "                                    reviewId app_name  \\\n",
       "count                                   3011     3011   \n",
       "unique                                  3011       10   \n",
       "top     01e23c15-44bf-46b7-b280-40e880d9d49b   Shopee   \n",
       "freq                                       1      303   \n",
       "\n",
       "                                                  content sentiment_polarity  \\\n",
       "count                                                3011               3011   \n",
       "unique                                               3011                  3   \n",
       "top     O app da Shopee é razoável. Apesar de ser fáci...           negative   \n",
       "freq                                                    1               1742   \n",
       "\n",
       "       sentiment  \n",
       "count       3011  \n",
       "unique         7  \n",
       "top      disgust  \n",
       "freq         952  "
      ]
     },
     "execution_count": 53,
     "metadata": {},
     "output_type": "execute_result"
    }
   ],
   "source": [
    "dados_reviews.describe()"
   ]
  },
  {
   "cell_type": "code",
   "execution_count": 54,
   "id": "c950eedf",
   "metadata": {},
   "outputs": [
    {
     "data": {
      "text/plain": [
       "'O app da Shopee é razoável. Apesar de ser fácil de utilizar, apresenta alguns bugs. Por exemplo: Sugestão de palavra errada no campo de pesquisa que acarreta na busca errada. Sugestões de produtos que não têm nada a ver com coisas de nosso interesse. Dificuldade de acesso de alguns jogos ou travamento durante alguma jogada. Falhas para carregar certos anexos para avaliação dos produtos. No geral, são problemas que se pode contornar, pois não ocorrem com tanta frequência.'"
      ]
     },
     "execution_count": 54,
     "metadata": {},
     "output_type": "execute_result"
    }
   ],
   "source": [
    "dados_reviews.loc[0,'content']"
   ]
  },
  {
   "cell_type": "markdown",
   "id": "6905a80d",
   "metadata": {},
   "source": [
    "# pre-processamento\n",
    "## removendo caracteres nao latinos\n"
   ]
  },
  {
   "cell_type": "code",
   "execution_count": 55,
   "id": "bf025ed4",
   "metadata": {},
   "outputs": [],
   "source": [
    "import regex # trabalhar com expressões regulares\n",
    "dados_reviews['content'] = dados_reviews['content'].apply(lambda x: regex.sub(r'[^\\p{Latin}]', u' ', str(x)))\n"
   ]
  },
  {
   "cell_type": "code",
   "execution_count": 56,
   "id": "cf1595f4",
   "metadata": {
    "scrolled": true
   },
   "outputs": [
    {
     "data": {
      "text/plain": [
       "'O app da Shopee é razoável  Apesar de ser fácil de utilizar  apresenta alguns bugs  Por exemplo  Sugestão de palavra errada no campo de pesquisa que acarreta na busca errada  Sugestões de produtos que não têm nada a ver com coisas de nosso interesse  Dificuldade de acesso de alguns jogos ou travamento durante alguma jogada  Falhas para carregar certos anexos para avaliação dos produtos  No geral  são problemas que se pode contornar  pois não ocorrem com tanta frequência '"
      ]
     },
     "execution_count": 56,
     "metadata": {},
     "output_type": "execute_result"
    }
   ],
   "source": [
    "dados_reviews.loc[0,'content']"
   ]
  },
  {
   "cell_type": "markdown",
   "id": "2f2cce03-d42f-4853-8062-f36688898bb8",
   "metadata": {},
   "source": [
    "## tirando maiusculas"
   ]
  },
  {
   "cell_type": "markdown",
   "id": "bdcffcf5",
   "metadata": {},
   "source": [
    "colocando textos minusculo"
   ]
  },
  {
   "cell_type": "code",
   "execution_count": 57,
   "id": "a377e6fe",
   "metadata": {},
   "outputs": [],
   "source": [
    "dados_reviews['content'] = dados_reviews['content'].apply(lambda x: str(x).lower())"
   ]
  },
  {
   "cell_type": "code",
   "execution_count": 58,
   "id": "f073a8ca",
   "metadata": {},
   "outputs": [
    {
     "data": {
      "text/plain": [
       "'o app da shopee é razoável  apesar de ser fácil de utilizar  apresenta alguns bugs  por exemplo  sugestão de palavra errada no campo de pesquisa que acarreta na busca errada  sugestões de produtos que não têm nada a ver com coisas de nosso interesse  dificuldade de acesso de alguns jogos ou travamento durante alguma jogada  falhas para carregar certos anexos para avaliação dos produtos  no geral  são problemas que se pode contornar  pois não ocorrem com tanta frequência '"
      ]
     },
     "execution_count": 58,
     "metadata": {},
     "output_type": "execute_result"
    }
   ],
   "source": [
    "dados_reviews.loc[0,'content']"
   ]
  },
  {
   "cell_type": "markdown",
   "id": "414a18e7-eae9-4932-a8bb-cc56c52fed10",
   "metadata": {},
   "source": [
    "## removendo stop words"
   ]
  },
  {
   "cell_type": "code",
   "execution_count": 59,
   "id": "7a586b72",
   "metadata": {},
   "outputs": [
    {
     "name": "stderr",
     "output_type": "stream",
     "text": [
      "[nltk_data] Downloading package stopwords to\n",
      "[nltk_data]     /home/arthurwsl/nltk_data...\n",
      "[nltk_data]   Package stopwords is already up-to-date!\n",
      "[nltk_data] Downloading package punkt to /home/arthurwsl/nltk_data...\n",
      "[nltk_data]   Package punkt is already up-to-date!\n"
     ]
    }
   ],
   "source": [
    "import nltk #caso não funcione, adicione a linha nltk.download('punkt')\n",
    "from nltk.corpus import stopwords\n",
    "from nltk.tokenize import word_tokenize\n",
    "nltk.download('stopwords')\n",
    "nltk.download('punkt')\n",
    "\n",
    "def remove_stopwords(texto):\n",
    "    stops_list = stopwords.words(\"portuguese\")\n",
    "    word_tokens = word_tokenize(texto)\n",
    "    texto_sem_stops = [w for w in word_tokens if w not in stops_list]\n",
    "    return \" \".join(texto_sem_stops)\n",
    "\n",
    "#dados_reviews['content'] = dados_reviews['content'].apply(remove_stopwords)"
   ]
  },
  {
   "cell_type": "code",
   "execution_count": 60,
   "id": "17b5fdac-3738-41c7-a20b-153cfdd0844b",
   "metadata": {},
   "outputs": [
    {
     "data": {
      "text/plain": [
       "'o app da shopee é razoável  apesar de ser fácil de utilizar  apresenta alguns bugs  por exemplo  sugestão de palavra errada no campo de pesquisa que acarreta na busca errada  sugestões de produtos que não têm nada a ver com coisas de nosso interesse  dificuldade de acesso de alguns jogos ou travamento durante alguma jogada  falhas para carregar certos anexos para avaliação dos produtos  no geral  são problemas que se pode contornar  pois não ocorrem com tanta frequência '"
      ]
     },
     "execution_count": 60,
     "metadata": {},
     "output_type": "execute_result"
    }
   ],
   "source": [
    "dados_reviews.loc[0,'content']"
   ]
  },
  {
   "cell_type": "markdown",
   "id": "468c63e8-f282-42bf-b573-508f3c6a6dec",
   "metadata": {},
   "source": [
    "## lematização"
   ]
  },
  {
   "cell_type": "code",
   "execution_count": 61,
   "id": "b10e76ea-db34-4bf9-a329-0c0b4073d30c",
   "metadata": {},
   "outputs": [],
   "source": [
    "import pandas as pd\n",
    "import spacy\n",
    "\n",
    "# Carregar o modelo de linguagem do spaCy para português\n",
    "nlp = spacy.load('pt_core_news_sm')\n",
    "\n",
    "# Função para lematizar um texto\n",
    "def lemmatize_text(texto):\n",
    "    doc = nlp(texto)\n",
    "    lemmas = [token.lemma_ for token in doc]\n",
    "    return ' '.join(lemmas)\n",
    "\n",
    "\n",
    "# Aplicar lematização à coluna 'content'\n",
    "dados_reviews['content'] = dados_reviews['content'].apply(lemmatize_text)\n"
   ]
  },
  {
   "cell_type": "code",
   "execution_count": 62,
   "id": "d3110a99-214e-470b-8ad7-0d515aacd5f5",
   "metadata": {},
   "outputs": [
    {
     "data": {
      "text/plain": [
       "'o app de o shopee ser razoável   apesar de ser fácil de utilizar   apresentar algum bugs   por exemplo   sugestão de palavra errar em o campo de pesquisa que acarretar em o busca errar   sugestão de produto que não ter nada a ver com coisa de nosso interesse   dificuldade de acesso de algum jogo ou travamento durante algum jogada   falha para carregar certos anexo para avaliação de o produto   em o geral   ser problema que se poder contornar   pois não ocorrer com tanto frequência'"
      ]
     },
     "execution_count": 62,
     "metadata": {},
     "output_type": "execute_result"
    }
   ],
   "source": [
    "dados_reviews.loc[0,'content']"
   ]
  },
  {
   "cell_type": "code",
   "execution_count": 63,
   "id": "8502d375-42a2-467f-8627-cc4b47589df1",
   "metadata": {},
   "outputs": [],
   "source": [
    "dados_reviews['content'] = dados_reviews['content'].fillna('')\n",
    "dados_reviews.to_csv('dados_reviews_tratados.csv', index=False)"
   ]
  },
  {
   "cell_type": "code",
   "execution_count": 64,
   "id": "4e956c23-e23d-452c-a48f-619adc8d9bf2",
   "metadata": {},
   "outputs": [
    {
     "data": {
      "text/html": [
       "<div>\n",
       "<style scoped>\n",
       "    .dataframe tbody tr th:only-of-type {\n",
       "        vertical-align: middle;\n",
       "    }\n",
       "\n",
       "    .dataframe tbody tr th {\n",
       "        vertical-align: top;\n",
       "    }\n",
       "\n",
       "    .dataframe thead th {\n",
       "        text-align: right;\n",
       "    }\n",
       "</style>\n",
       "<table border=\"1\" class=\"dataframe\">\n",
       "  <thead>\n",
       "    <tr style=\"text-align: right;\">\n",
       "      <th></th>\n",
       "      <th>sentiment</th>\n",
       "      <th>sentiment_polarity</th>\n",
       "    </tr>\n",
       "  </thead>\n",
       "  <tbody>\n",
       "    <tr>\n",
       "      <th>count</th>\n",
       "      <td>3011</td>\n",
       "      <td>3011</td>\n",
       "    </tr>\n",
       "    <tr>\n",
       "      <th>unique</th>\n",
       "      <td>7</td>\n",
       "      <td>3</td>\n",
       "    </tr>\n",
       "    <tr>\n",
       "      <th>top</th>\n",
       "      <td>disgust</td>\n",
       "      <td>negative</td>\n",
       "    </tr>\n",
       "    <tr>\n",
       "      <th>freq</th>\n",
       "      <td>952</td>\n",
       "      <td>1742</td>\n",
       "    </tr>\n",
       "  </tbody>\n",
       "</table>\n",
       "</div>"
      ],
      "text/plain": [
       "       sentiment sentiment_polarity\n",
       "count       3011               3011\n",
       "unique         7                  3\n",
       "top      disgust           negative\n",
       "freq         952               1742"
      ]
     },
     "execution_count": 64,
     "metadata": {},
     "output_type": "execute_result"
    }
   ],
   "source": [
    "dados_reviews[['sentiment','sentiment_polarity']].describe()"
   ]
  },
  {
   "cell_type": "code",
   "execution_count": 8,
   "id": "98a2bbe5-72a8-4eff-8549-bed51e60fc36",
   "metadata": {},
   "outputs": [
    {
     "data": {
      "text/plain": [
       "sentiment\n",
       "disgust      952\n",
       "sadness      864\n",
       "anger        743\n",
       "happiness    319\n",
       "neutral       82\n",
       "fear          47\n",
       "surprise       4\n",
       "Name: count, dtype: int64"
      ]
     },
     "execution_count": 8,
     "metadata": {},
     "output_type": "execute_result"
    }
   ],
   "source": [
    "dados_reviews['sentiment'].value_counts()\n"
   ]
  },
  {
   "cell_type": "markdown",
   "id": "a54d6af6-ff42-46e0-9170-89d6e4a793e5",
   "metadata": {},
   "source": [
    "## tratando dados usados para teste"
   ]
  },
  {
   "cell_type": "code",
   "execution_count": 13,
   "id": "fe4f0af7-37e6-4320-a442-348341a2a121",
   "metadata": {},
   "outputs": [
    {
     "data": {
      "text/html": [
       "<div>\n",
       "<style scoped>\n",
       "    .dataframe tbody tr th:only-of-type {\n",
       "        vertical-align: middle;\n",
       "    }\n",
       "\n",
       "    .dataframe tbody tr th {\n",
       "        vertical-align: top;\n",
       "    }\n",
       "\n",
       "    .dataframe thead th {\n",
       "        text-align: right;\n",
       "    }\n",
       "</style>\n",
       "<table border=\"1\" class=\"dataframe\">\n",
       "  <thead>\n",
       "    <tr style=\"text-align: right;\">\n",
       "      <th></th>\n",
       "      <th>numero</th>\n",
       "      <th>content</th>\n",
       "      <th>sentiment_polarity</th>\n",
       "      <th>sentiment</th>\n",
       "      <th>app</th>\n",
       "    </tr>\n",
       "  </thead>\n",
       "  <tbody>\n",
       "    <tr>\n",
       "      <th>0</th>\n",
       "      <td>1</td>\n",
       "      <td>A última vez que pedi algo por esse app foi re...</td>\n",
       "      <td>negative</td>\n",
       "      <td>disgust</td>\n",
       "      <td>iFood</td>\n",
       "    </tr>\n",
       "    <tr>\n",
       "      <th>1</th>\n",
       "      <td>2</td>\n",
       "      <td>Péssimo suporte, troquei de celular e não tenh...</td>\n",
       "      <td>negative</td>\n",
       "      <td>sadness</td>\n",
       "      <td>iFood</td>\n",
       "    </tr>\n",
       "    <tr>\n",
       "      <th>2</th>\n",
       "      <td>3</td>\n",
       "      <td>Gostando muito do nubank! Consegui desenvolver...</td>\n",
       "      <td>positive</td>\n",
       "      <td>happiness</td>\n",
       "      <td>Nubank</td>\n",
       "    </tr>\n",
       "    <tr>\n",
       "      <th>3</th>\n",
       "      <td>4</td>\n",
       "      <td>O melhor navegador que já usei, realmente bloq...</td>\n",
       "      <td>positive</td>\n",
       "      <td>happiness</td>\n",
       "      <td>Brave Mobile</td>\n",
       "    </tr>\n",
       "    <tr>\n",
       "      <th>4</th>\n",
       "      <td>5</td>\n",
       "      <td>Uma modificação da maldade. Realmente isso é e...</td>\n",
       "      <td>negative</td>\n",
       "      <td>anger</td>\n",
       "      <td>Figurinhas do Lula - PT</td>\n",
       "    </tr>\n",
       "    <tr>\n",
       "      <th>5</th>\n",
       "      <td>6</td>\n",
       "      <td>O app é muito bom,algumas mercadorias s?o real...</td>\n",
       "      <td>positive</td>\n",
       "      <td>sadness</td>\n",
       "      <td>Shopee</td>\n",
       "    </tr>\n",
       "    <tr>\n",
       "      <th>6</th>\n",
       "      <td>7</td>\n",
       "      <td>Estava com problema inicial de n?o conseguir e...</td>\n",
       "      <td>negative</td>\n",
       "      <td>anger</td>\n",
       "      <td>Shopee</td>\n",
       "    </tr>\n",
       "    <tr>\n",
       "      <th>7</th>\n",
       "      <td>8</td>\n",
       "      <td>Pra mim é o Melhor Shopping Online que surgiu,...</td>\n",
       "      <td>positive</td>\n",
       "      <td>happiness</td>\n",
       "      <td>Shopee</td>\n",
       "    </tr>\n",
       "    <tr>\n",
       "      <th>8</th>\n",
       "      <td>9</td>\n",
       "      <td>Serviço de varejo muito bom, o sistema de fret...</td>\n",
       "      <td>positive</td>\n",
       "      <td>happiness</td>\n",
       "      <td>Shopee</td>\n",
       "    </tr>\n",
       "  </tbody>\n",
       "</table>\n",
       "</div>"
      ],
      "text/plain": [
       "   numero                                            content  \\\n",
       "0       1  A última vez que pedi algo por esse app foi re...   \n",
       "1       2  Péssimo suporte, troquei de celular e não tenh...   \n",
       "2       3  Gostando muito do nubank! Consegui desenvolver...   \n",
       "3       4  O melhor navegador que já usei, realmente bloq...   \n",
       "4       5  Uma modificação da maldade. Realmente isso é e...   \n",
       "5       6  O app é muito bom,algumas mercadorias s?o real...   \n",
       "6       7  Estava com problema inicial de n?o conseguir e...   \n",
       "7       8  Pra mim é o Melhor Shopping Online que surgiu,...   \n",
       "8       9  Serviço de varejo muito bom, o sistema de fret...   \n",
       "\n",
       "  sentiment_polarity  sentiment                      app  \n",
       "0           negative    disgust                    iFood  \n",
       "1           negative    sadness                    iFood  \n",
       "2           positive  happiness                   Nubank  \n",
       "3           positive  happiness             Brave Mobile  \n",
       "4           negative      anger  Figurinhas do Lula - PT  \n",
       "5           positive    sadness                   Shopee  \n",
       "6           negative      anger                   Shopee  \n",
       "7           positive  happiness                   Shopee  \n",
       "8           positive  happiness                   Shopee  "
      ]
     },
     "execution_count": 13,
     "metadata": {},
     "output_type": "execute_result"
    }
   ],
   "source": [
    "teste_emocoes = pd.read_csv('teste.csv', sep = ',', encoding = 'latin-1')\n",
    "teste_emocoes"
   ]
  },
  {
   "cell_type": "markdown",
   "id": "c86d4aac",
   "metadata": {},
   "source": [
    "instanciando metodos que fara a representacao do texto usando o modelo bag of word"
   ]
  },
  {
   "cell_type": "code",
   "execution_count": 14,
   "id": "785d30a8",
   "metadata": {},
   "outputs": [],
   "source": [
    "from sklearn.feature_extraction.text import CountVectorizer\n",
    "vectorizer = CountVectorizer()"
   ]
  },
  {
   "cell_type": "code",
   "execution_count": 15,
   "id": "13ebb840",
   "metadata": {},
   "outputs": [],
   "source": [
    "BoW_matriz = vectorizer.fit_transform(dados_reviews['content'])\n",
    "palavras = vectorizer.get_feature_names_out()\n"
   ]
  },
  {
   "cell_type": "code",
   "execution_count": 16,
   "id": "f2efbf36",
   "metadata": {
    "scrolled": true
   },
   "outputs": [
    {
     "data": {
      "text/html": [
       "<div>\n",
       "<style scoped>\n",
       "    .dataframe tbody tr th:only-of-type {\n",
       "        vertical-align: middle;\n",
       "    }\n",
       "\n",
       "    .dataframe tbody tr th {\n",
       "        vertical-align: top;\n",
       "    }\n",
       "\n",
       "    .dataframe thead th {\n",
       "        text-align: right;\n",
       "    }\n",
       "</style>\n",
       "<table border=\"1\" class=\"dataframe\">\n",
       "  <thead>\n",
       "    <tr style=\"text-align: right;\">\n",
       "      <th></th>\n",
       "      <th>2e</th>\n",
       "      <th>aap</th>\n",
       "      <th>aba</th>\n",
       "      <th>abaixado</th>\n",
       "      <th>abaixar</th>\n",
       "      <th>abaixe</th>\n",
       "      <th>abaixei</th>\n",
       "      <th>abaixeir</th>\n",
       "      <th>abaixem</th>\n",
       "      <th>abaixo</th>\n",
       "      <th>...</th>\n",
       "      <th>ótimo</th>\n",
       "      <th>ótimos</th>\n",
       "      <th>ótir</th>\n",
       "      <th>ônibus</th>\n",
       "      <th>última</th>\n",
       "      <th>últimamente</th>\n",
       "      <th>último</th>\n",
       "      <th>único</th>\n",
       "      <th>úteis</th>\n",
       "      <th>útil</th>\n",
       "    </tr>\n",
       "  </thead>\n",
       "  <tbody>\n",
       "    <tr>\n",
       "      <th>0</th>\n",
       "      <td>0</td>\n",
       "      <td>0</td>\n",
       "      <td>0</td>\n",
       "      <td>0</td>\n",
       "      <td>0</td>\n",
       "      <td>0</td>\n",
       "      <td>0</td>\n",
       "      <td>0</td>\n",
       "      <td>0</td>\n",
       "      <td>0</td>\n",
       "      <td>...</td>\n",
       "      <td>0</td>\n",
       "      <td>0</td>\n",
       "      <td>0</td>\n",
       "      <td>0</td>\n",
       "      <td>0</td>\n",
       "      <td>0</td>\n",
       "      <td>0</td>\n",
       "      <td>0</td>\n",
       "      <td>0</td>\n",
       "      <td>0</td>\n",
       "    </tr>\n",
       "    <tr>\n",
       "      <th>1</th>\n",
       "      <td>0</td>\n",
       "      <td>0</td>\n",
       "      <td>0</td>\n",
       "      <td>0</td>\n",
       "      <td>0</td>\n",
       "      <td>0</td>\n",
       "      <td>0</td>\n",
       "      <td>0</td>\n",
       "      <td>0</td>\n",
       "      <td>0</td>\n",
       "      <td>...</td>\n",
       "      <td>0</td>\n",
       "      <td>0</td>\n",
       "      <td>0</td>\n",
       "      <td>0</td>\n",
       "      <td>0</td>\n",
       "      <td>0</td>\n",
       "      <td>0</td>\n",
       "      <td>0</td>\n",
       "      <td>0</td>\n",
       "      <td>0</td>\n",
       "    </tr>\n",
       "    <tr>\n",
       "      <th>2</th>\n",
       "      <td>0</td>\n",
       "      <td>0</td>\n",
       "      <td>0</td>\n",
       "      <td>0</td>\n",
       "      <td>0</td>\n",
       "      <td>0</td>\n",
       "      <td>0</td>\n",
       "      <td>0</td>\n",
       "      <td>0</td>\n",
       "      <td>0</td>\n",
       "      <td>...</td>\n",
       "      <td>0</td>\n",
       "      <td>0</td>\n",
       "      <td>0</td>\n",
       "      <td>0</td>\n",
       "      <td>0</td>\n",
       "      <td>0</td>\n",
       "      <td>0</td>\n",
       "      <td>0</td>\n",
       "      <td>0</td>\n",
       "      <td>0</td>\n",
       "    </tr>\n",
       "    <tr>\n",
       "      <th>3</th>\n",
       "      <td>0</td>\n",
       "      <td>0</td>\n",
       "      <td>0</td>\n",
       "      <td>0</td>\n",
       "      <td>0</td>\n",
       "      <td>0</td>\n",
       "      <td>0</td>\n",
       "      <td>0</td>\n",
       "      <td>0</td>\n",
       "      <td>0</td>\n",
       "      <td>...</td>\n",
       "      <td>0</td>\n",
       "      <td>0</td>\n",
       "      <td>0</td>\n",
       "      <td>0</td>\n",
       "      <td>0</td>\n",
       "      <td>0</td>\n",
       "      <td>0</td>\n",
       "      <td>0</td>\n",
       "      <td>0</td>\n",
       "      <td>0</td>\n",
       "    </tr>\n",
       "    <tr>\n",
       "      <th>4</th>\n",
       "      <td>0</td>\n",
       "      <td>0</td>\n",
       "      <td>0</td>\n",
       "      <td>0</td>\n",
       "      <td>0</td>\n",
       "      <td>0</td>\n",
       "      <td>0</td>\n",
       "      <td>0</td>\n",
       "      <td>0</td>\n",
       "      <td>0</td>\n",
       "      <td>...</td>\n",
       "      <td>0</td>\n",
       "      <td>0</td>\n",
       "      <td>0</td>\n",
       "      <td>0</td>\n",
       "      <td>0</td>\n",
       "      <td>0</td>\n",
       "      <td>0</td>\n",
       "      <td>0</td>\n",
       "      <td>0</td>\n",
       "      <td>0</td>\n",
       "    </tr>\n",
       "    <tr>\n",
       "      <th>...</th>\n",
       "      <td>...</td>\n",
       "      <td>...</td>\n",
       "      <td>...</td>\n",
       "      <td>...</td>\n",
       "      <td>...</td>\n",
       "      <td>...</td>\n",
       "      <td>...</td>\n",
       "      <td>...</td>\n",
       "      <td>...</td>\n",
       "      <td>...</td>\n",
       "      <td>...</td>\n",
       "      <td>...</td>\n",
       "      <td>...</td>\n",
       "      <td>...</td>\n",
       "      <td>...</td>\n",
       "      <td>...</td>\n",
       "      <td>...</td>\n",
       "      <td>...</td>\n",
       "      <td>...</td>\n",
       "      <td>...</td>\n",
       "      <td>...</td>\n",
       "    </tr>\n",
       "    <tr>\n",
       "      <th>3006</th>\n",
       "      <td>0</td>\n",
       "      <td>0</td>\n",
       "      <td>0</td>\n",
       "      <td>0</td>\n",
       "      <td>0</td>\n",
       "      <td>0</td>\n",
       "      <td>0</td>\n",
       "      <td>0</td>\n",
       "      <td>0</td>\n",
       "      <td>0</td>\n",
       "      <td>...</td>\n",
       "      <td>0</td>\n",
       "      <td>0</td>\n",
       "      <td>0</td>\n",
       "      <td>0</td>\n",
       "      <td>0</td>\n",
       "      <td>0</td>\n",
       "      <td>0</td>\n",
       "      <td>0</td>\n",
       "      <td>0</td>\n",
       "      <td>0</td>\n",
       "    </tr>\n",
       "    <tr>\n",
       "      <th>3007</th>\n",
       "      <td>0</td>\n",
       "      <td>0</td>\n",
       "      <td>0</td>\n",
       "      <td>0</td>\n",
       "      <td>0</td>\n",
       "      <td>0</td>\n",
       "      <td>0</td>\n",
       "      <td>0</td>\n",
       "      <td>0</td>\n",
       "      <td>0</td>\n",
       "      <td>...</td>\n",
       "      <td>0</td>\n",
       "      <td>0</td>\n",
       "      <td>0</td>\n",
       "      <td>0</td>\n",
       "      <td>0</td>\n",
       "      <td>0</td>\n",
       "      <td>0</td>\n",
       "      <td>0</td>\n",
       "      <td>0</td>\n",
       "      <td>0</td>\n",
       "    </tr>\n",
       "    <tr>\n",
       "      <th>3008</th>\n",
       "      <td>0</td>\n",
       "      <td>0</td>\n",
       "      <td>0</td>\n",
       "      <td>0</td>\n",
       "      <td>0</td>\n",
       "      <td>0</td>\n",
       "      <td>0</td>\n",
       "      <td>0</td>\n",
       "      <td>0</td>\n",
       "      <td>0</td>\n",
       "      <td>...</td>\n",
       "      <td>0</td>\n",
       "      <td>0</td>\n",
       "      <td>0</td>\n",
       "      <td>0</td>\n",
       "      <td>0</td>\n",
       "      <td>0</td>\n",
       "      <td>0</td>\n",
       "      <td>0</td>\n",
       "      <td>0</td>\n",
       "      <td>0</td>\n",
       "    </tr>\n",
       "    <tr>\n",
       "      <th>3009</th>\n",
       "      <td>0</td>\n",
       "      <td>0</td>\n",
       "      <td>0</td>\n",
       "      <td>0</td>\n",
       "      <td>0</td>\n",
       "      <td>0</td>\n",
       "      <td>0</td>\n",
       "      <td>0</td>\n",
       "      <td>0</td>\n",
       "      <td>0</td>\n",
       "      <td>...</td>\n",
       "      <td>0</td>\n",
       "      <td>0</td>\n",
       "      <td>0</td>\n",
       "      <td>0</td>\n",
       "      <td>0</td>\n",
       "      <td>0</td>\n",
       "      <td>0</td>\n",
       "      <td>0</td>\n",
       "      <td>0</td>\n",
       "      <td>0</td>\n",
       "    </tr>\n",
       "    <tr>\n",
       "      <th>3010</th>\n",
       "      <td>0</td>\n",
       "      <td>0</td>\n",
       "      <td>0</td>\n",
       "      <td>0</td>\n",
       "      <td>0</td>\n",
       "      <td>0</td>\n",
       "      <td>0</td>\n",
       "      <td>0</td>\n",
       "      <td>0</td>\n",
       "      <td>0</td>\n",
       "      <td>...</td>\n",
       "      <td>0</td>\n",
       "      <td>0</td>\n",
       "      <td>0</td>\n",
       "      <td>0</td>\n",
       "      <td>0</td>\n",
       "      <td>0</td>\n",
       "      <td>0</td>\n",
       "      <td>0</td>\n",
       "      <td>0</td>\n",
       "      <td>0</td>\n",
       "    </tr>\n",
       "  </tbody>\n",
       "</table>\n",
       "<p>3011 rows × 6374 columns</p>\n",
       "</div>"
      ],
      "text/plain": [
       "      2e  aap  aba  abaixado  abaixar  abaixe  abaixei  abaixeir  abaixem  \\\n",
       "0      0    0    0         0        0       0        0         0        0   \n",
       "1      0    0    0         0        0       0        0         0        0   \n",
       "2      0    0    0         0        0       0        0         0        0   \n",
       "3      0    0    0         0        0       0        0         0        0   \n",
       "4      0    0    0         0        0       0        0         0        0   \n",
       "...   ..  ...  ...       ...      ...     ...      ...       ...      ...   \n",
       "3006   0    0    0         0        0       0        0         0        0   \n",
       "3007   0    0    0         0        0       0        0         0        0   \n",
       "3008   0    0    0         0        0       0        0         0        0   \n",
       "3009   0    0    0         0        0       0        0         0        0   \n",
       "3010   0    0    0         0        0       0        0         0        0   \n",
       "\n",
       "      abaixo  ...  ótimo  ótimos  ótir  ônibus  última  últimamente  último  \\\n",
       "0          0  ...      0       0     0       0       0            0       0   \n",
       "1          0  ...      0       0     0       0       0            0       0   \n",
       "2          0  ...      0       0     0       0       0            0       0   \n",
       "3          0  ...      0       0     0       0       0            0       0   \n",
       "4          0  ...      0       0     0       0       0            0       0   \n",
       "...      ...  ...    ...     ...   ...     ...     ...          ...     ...   \n",
       "3006       0  ...      0       0     0       0       0            0       0   \n",
       "3007       0  ...      0       0     0       0       0            0       0   \n",
       "3008       0  ...      0       0     0       0       0            0       0   \n",
       "3009       0  ...      0       0     0       0       0            0       0   \n",
       "3010       0  ...      0       0     0       0       0            0       0   \n",
       "\n",
       "      único  úteis  útil  \n",
       "0         0      0     0  \n",
       "1         0      0     0  \n",
       "2         0      0     0  \n",
       "3         0      0     0  \n",
       "4         0      0     0  \n",
       "...     ...    ...   ...  \n",
       "3006      0      0     0  \n",
       "3007      0      0     0  \n",
       "3008      0      0     0  \n",
       "3009      0      0     0  \n",
       "3010      0      0     0  \n",
       "\n",
       "[3011 rows x 6374 columns]"
      ]
     },
     "execution_count": 16,
     "metadata": {},
     "output_type": "execute_result"
    }
   ],
   "source": [
    "BOW_dataframe=pd.DataFrame(BoW_matriz.toarray(),columns=palavras)\n",
    "BOW_dataframe"
   ]
  },
  {
   "cell_type": "code",
   "execution_count": 17,
   "id": "5cc85ef9-cf80-48fb-95a9-caca6d8debbc",
   "metadata": {},
   "outputs": [
    {
     "data": {
      "text/plain": [
       "0    último vez pedir algo app realmente último pra...\n",
       "1    péssimo suporte troquei celular acesso número ...\n",
       "2    gostar nubank conseguir desenvolver bom relaci...\n",
       "3    bom navegador usei realmente bloqueia todo pro...\n",
       "4         modificação maldade realmente estuper idiota\n",
       "5    app bom algum mercadoria s realmente qualidade...\n",
       "6    problema inicial n conseguir enviar mensagem c...\n",
       "7    pra eu bom shopping onliner surgir respeitar c...\n",
       "8    serviço varejo bom sistema frete ótimo funcion...\n",
       "Name: content, dtype: object"
      ]
     },
     "execution_count": 17,
     "metadata": {},
     "output_type": "execute_result"
    }
   ],
   "source": [
    "teste_emocoes['content'] = teste_emocoes['content'].apply(lambda x: regex.sub(r'[^\\p{Latin}]', u' ', str(x)))\n",
    "teste_emocoes['content'] =teste_emocoes['content'].apply(lambda x: str(x).lower())\n",
    "teste_emocoes['content'] = teste_emocoes['content'].apply(remove_stopwords)\n",
    "teste_emocoes['content'] = teste_emocoes['content'].apply(lemmatize_text)\n",
    "teste_emocoes['content']"
   ]
  },
  {
   "cell_type": "code",
   "execution_count": 19,
   "id": "2a799ac5-0fcd-4343-a756-8d6d87463126",
   "metadata": {},
   "outputs": [],
   "source": [
    "teste_emocoes.to_csv('teste_tratado.csv', index=False)"
   ]
  },
  {
   "cell_type": "code",
   "execution_count": null,
   "id": "d3a139b6-4139-4f92-b908-ac2c0595aa83",
   "metadata": {},
   "outputs": [],
   "source": []
  }
 ],
 "metadata": {
  "kernelspec": {
   "display_name": "Python 3 (ipykernel)",
   "language": "python",
   "name": "python3"
  },
  "language_info": {
   "codemirror_mode": {
    "name": "ipython",
    "version": 3
   },
   "file_extension": ".py",
   "mimetype": "text/x-python",
   "name": "python",
   "nbconvert_exporter": "python",
   "pygments_lexer": "ipython3",
   "version": "3.12.4"
  }
 },
 "nbformat": 4,
 "nbformat_minor": 5
}
