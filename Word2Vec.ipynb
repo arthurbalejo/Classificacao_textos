{
 "cells": [
  {
   "cell_type": "code",
   "execution_count": 1,
   "id": "5c76118f-46e7-4f5e-a069-9d1dafee47d7",
   "metadata": {},
   "outputs": [],
   "source": [
    "import pandas as pd\n",
    "dados_reviews = pd.read_csv('dados_reviews_tratados.csv', sep = ',')\n",
    "dados_reviews['content'] = dados_reviews['content'].fillna('')\n",
    "dados_reviews = dados_reviews[~dados_reviews['sentiment'].isin(['surprise', 'fear'])]"
   ]
  },
  {
   "cell_type": "markdown",
   "id": "46d5aad6",
   "metadata": {},
   "source": [
    "# treinamento e teste"
   ]
  },
  {
   "cell_type": "markdown",
   "id": "da0ee734",
   "metadata": {},
   "source": [
    "Aqui vamos estimar a performance do classificador utilizando uma subdivisão nos dados. Vamos dividir os dados (BOW_dataframe) em um conjunto de teste e outro treinamento. "
   ]
  },
  {
   "cell_type": "code",
   "execution_count": 2,
   "id": "e3b513b7-6aa1-4592-a037-2ee61255af1f",
   "metadata": {},
   "outputs": [
    {
     "name": "stdout",
     "output_type": "stream",
     "text": [
      "              precision    recall  f1-score   support\n",
      "\n",
      "       anger       0.36      0.19      0.25       163\n",
      "     disgust       0.41      0.58      0.48       169\n",
      "   happiness       0.40      0.24      0.30        58\n",
      "     sadness       0.58      0.67      0.62       186\n",
      "\n",
      "    accuracy                           0.47       576\n",
      "   macro avg       0.44      0.42      0.41       576\n",
      "weighted avg       0.45      0.47      0.44       576\n",
      "\n",
      "emocao predita:\n",
      "['anger', 'disgust', 'happiness', 'disgust', 'sadness', 'happiness', 'disgust', 'sadness', 'happiness']\n",
      "emocao real:\n",
      "['disgust', 'sadness', 'happiness', 'happiness', 'anger', 'sadness', 'anger', 'happiness', 'happiness']\n"
     ]
    }
   ],
   "source": [
    "import pandas as pd\n",
    "import numpy as np\n",
    "from sklearn.model_selection import train_test_split\n",
    "from sklearn.ensemble import RandomForestClassifier\n",
    "from sklearn.metrics import classification_report\n",
    "from gensim.models import Word2Vec\n",
    "\n",
    "# Carregar os dados\n",
    "dados_reviews = pd.read_csv('dados_reviews_tratados.csv', sep=',')\n",
    "dados_reviews['content'] = dados_reviews['content'].fillna('')\n",
    "dados_reviews = dados_reviews[~dados_reviews['sentiment'].isin(['surprise', 'fear','neutral'])]\n",
    "\n",
    "# Treinamento do modelo Word2Vec\n",
    "sentences = [sentence.split() for sentence in dados_reviews['content']]\n",
    "model = Word2Vec(sentences, vector_size=100, window=5, min_count=1, workers=4)\n",
    "\n",
    "# Função para obter a média dos vetores das palavras\n",
    "def get_mean_vector(tokens, model):\n",
    "    vectors = [model.wv[word] for word in tokens if word in model.wv]\n",
    "    if len(vectors) == 0:\n",
    "        return np.zeros(model.vector_size)\n",
    "    return np.mean(vectors, axis=0)\n",
    "\n",
    "# Aplicar a função para todas as reviews\n",
    "X = np.array([get_mean_vector(sentence.split(), model) for sentence in dados_reviews['content']])\n",
    "y = np.array(dados_reviews['sentiment'])\n",
    "\n",
    "# Dividir os dados em treino e teste\n",
    "X_train, X_test, y_train, y_test = train_test_split(X, y, test_size=0.2, random_state=42)\n",
    "\n",
    "# Treinamento do modelo de classificação\n",
    "clf = RandomForestClassifier(n_estimators=100, random_state=42)\n",
    "clf.fit(X_train, y_train)\n",
    "\n",
    "# Previsão e avaliação\n",
    "y_pred = clf.predict(X_test)\n",
    "print(classification_report(y_test, y_pred))\n",
    "\n",
    "# Novo DataFrame com reviews para teste\n",
    "teste_emocoes = pd.read_csv('teste.csv', sep=',', encoding='latin-1')\n",
    "\n",
    "# Função de tokenização\n",
    "def tokenize(text):\n",
    "    return text.lower().split()\n",
    "\n",
    "# Função para prever o sentimento de um review\n",
    "def predict_sentiment(review):\n",
    "    tokens = tokenize(review)\n",
    "    review_vector = get_mean_vector(tokens, model)\n",
    "    review_vector = review_vector.reshape(1, -1)  # Transformar em formato 2D\n",
    "    return clf.predict(review_vector)[0]  # Retornar a previsão\n",
    "\n",
    "# Aplicar a função de previsão a cada review no DataFrame\n",
    "teste_emocoes['sentimento_previsto'] = teste_emocoes['content'].apply(predict_sentiment)\n",
    "\n",
    "print('emocao predita:')\n",
    "print(list(teste_emocoes['sentimento_previsto']))\n",
    "print('emocao real:')\n",
    "print(list(teste_emocoes['sentiment']))\n"
   ]
  },
  {
   "cell_type": "code",
   "execution_count": null,
   "id": "86e12c98-48d1-4c0b-87f0-0dece7944b8d",
   "metadata": {},
   "outputs": [],
   "source": []
  }
 ],
 "metadata": {
  "kernelspec": {
   "display_name": "Python 3 (ipykernel)",
   "language": "python",
   "name": "python3"
  },
  "language_info": {
   "codemirror_mode": {
    "name": "ipython",
    "version": 3
   },
   "file_extension": ".py",
   "mimetype": "text/x-python",
   "name": "python",
   "nbconvert_exporter": "python",
   "pygments_lexer": "ipython3",
   "version": "3.12.4"
  }
 },
 "nbformat": 4,
 "nbformat_minor": 5
}
